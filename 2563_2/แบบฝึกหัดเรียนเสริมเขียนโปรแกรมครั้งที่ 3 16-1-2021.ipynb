{
 "cells": [
  {
   "cell_type": "markdown",
   "metadata": {},
   "source": [
    "1. จงเขียนโปรแกรมรับค่าตัวเลข 1 ตัว (n) จากคีย์บอร์ด จากนั้นแสดงผลตัวเลขตั้งแต่ 1 – n ด้วยค าสั่ง for\n",
    "loop ดังแสดงในตัวอย่าง"
   ]
  },
  {
   "cell_type": "code",
   "execution_count": 27,
   "metadata": {},
   "outputs": [
    {
     "name": "stdout",
     "output_type": "stream",
     "text": [
      "Enter number: 8\n",
      "1\n",
      "2\n",
      "3\n",
      "4\n",
      "5\n",
      "6\n",
      "7\n",
      "8\n"
     ]
    }
   ],
   "source": [
    "n = int(input(\"Enter number: \"))\n",
    "for i in range(n):\n",
    "    print(i+1)"
   ]
  },
  {
   "cell_type": "markdown",
   "metadata": {},
   "source": [
    "2. จงเขียนโปรแกรมรับค่าตัวเลข 1 ตัว (n) จากคีย์บอร์ด จากนั้นแสดงผลตัวเลขตั้งแต่ 1 – n ในบันทัด\n",
    "เดียวกันด้วยค าสั่ง for loop ดังแสดงในตัวอย่าง"
   ]
  },
  {
   "cell_type": "code",
   "execution_count": 28,
   "metadata": {},
   "outputs": [
    {
     "name": "stdout",
     "output_type": "stream",
     "text": [
      "Enter number: 10\n",
      "12345678910"
     ]
    }
   ],
   "source": [
    "n = int(input(\"Enter number: \"))\n",
    "for i in range(1,n+1):\n",
    "    print(i, end =\"\")"
   ]
  },
  {
   "cell_type": "markdown",
   "metadata": {},
   "source": [
    "3. จงเขียนโปรแกรมสร้างตารางสูตรคูณ โดยรับข้อมูลเข้าเป็นตัวเลข 1 ตัว (n) เพื่อให้แสดงผลสูตรคูณแม่นั้น\n",
    "ๆ โดยใช้ค าสั่ง For loop ดังตัวอย่างนี้\n"
   ]
  },
  {
   "cell_type": "code",
   "execution_count": 34,
   "metadata": {},
   "outputs": [
    {
     "name": "stdout",
     "output_type": "stream",
     "text": [
      "Enter number: 10\n",
      "10 x 1 = 10\n",
      "10 x 2 = 20\n",
      "10 x 3 = 30\n",
      "10 x 4 = 40\n",
      "10 x 5 = 50\n",
      "10 x 6 = 60\n",
      "10 x 7 = 70\n",
      "10 x 8 = 80\n",
      "10 x 9 = 90\n",
      "10 x 10 = 100\n",
      "10 x 11 = 110\n",
      "10 x 12 = 120\n"
     ]
    }
   ],
   "source": [
    "n = int(input(\"Enter number: \"))\n",
    "Range = 12\n",
    "for i in range(Range):\n",
    "    print(\"{} x {} = {}\".format(n,i+1,n*(i+1)))"
   ]
  },
  {
   "cell_type": "markdown",
   "metadata": {},
   "source": [
    "4. จงเขียนโปรแกรมรับค่าตัวเลข 1 ตัว (n) จากคีย์บอร์ด จากนั้นแสดงผลตัวเลขตั้งแต่ 1 – n ในบันทัด\n",
    "เดียวกันด้วยค าสั่ง while loop ดังแสดงในตัวอย่าง"
   ]
  },
  {
   "cell_type": "code",
   "execution_count": 45,
   "metadata": {},
   "outputs": [
    {
     "name": "stdout",
     "output_type": "stream",
     "text": [
      "Enter number: 5\n",
      "12345"
     ]
    }
   ],
   "source": [
    "n = int(input(\"Enter number: \"))\n",
    "\n",
    "i = 1\n",
    "while i <= n:\n",
    "    print(i, end = \"\")\n",
    "    i = i+1"
   ]
  },
  {
   "cell_type": "markdown",
   "metadata": {},
   "source": [
    "5. จงเขียนโปรแกรมสร้างตารางสูตรคูณ โดยรับข้อมูลเข้าเป็นตัวเลข 1 ตัว (n) เพื่อให้แสดงผลสูตรคูณแม่นั้น\n",
    "ๆ โดยใช้ค าสั่ง while loop ดังตัวอย่างนี้\n"
   ]
  },
  {
   "cell_type": "code",
   "execution_count": 49,
   "metadata": {},
   "outputs": [
    {
     "name": "stdout",
     "output_type": "stream",
     "text": [
      "Enter number: 10\n",
      "10 x 1 = 10\n",
      "10 x 2 = 20\n",
      "10 x 3 = 30\n",
      "10 x 4 = 40\n",
      "10 x 5 = 50\n",
      "10 x 6 = 60\n",
      "10 x 7 = 70\n",
      "10 x 8 = 80\n",
      "10 x 9 = 90\n",
      "10 x 10 = 100\n",
      "10 x 11 = 110\n",
      "10 x 12 = 120\n"
     ]
    }
   ],
   "source": [
    "n = int(input(\"Enter number: \"))\n",
    "\n",
    "i = 1\n",
    "while i <= 12:\n",
    "    print(\"{} x {} = {}\".format(n,i,(n*i)))\n",
    "    i = i+1"
   ]
  },
  {
   "cell_type": "markdown",
   "metadata": {},
   "source": [
    "6. จงเขียนโปรแกรมที่รับค่าตัวเลข 1 ตัว (n) จากคีย์บอร์ด และแสดงผลตัวเลขตั้งแต่ 1 – 50 ที่หารด้วย n\n",
    "ลงตัว ดังตัวอย่างนี้\n"
   ]
  },
  {
   "cell_type": "code",
   "execution_count": 52,
   "metadata": {},
   "outputs": [
    {
     "name": "stdout",
     "output_type": "stream",
     "text": [
      "Enter number: 3\n",
      "3 6 9 12 15 18 21 24 27 30 33 36 39 42 45 48 "
     ]
    }
   ],
   "source": [
    "n = int(input(\"Enter number: \"))\n",
    "\n",
    "for i in range(1,50):\n",
    "    if i%n == 0:\n",
    "        print(i, end=\" \")\n",
    "    else:\n",
    "        pass"
   ]
  },
  {
   "cell_type": "markdown",
   "metadata": {},
   "source": [
    "7. จงเขียนโปรแกรมสร้างรูปพีรามิด ดังตัวอย่างด้านล่างโดยจ านวนชั้นจะรับค่า n จากคีย์บอร์ดเพื่อแสดงผล\n",
    "ดังตัวอย่างน"
   ]
  },
  {
   "cell_type": "code",
   "execution_count": 54,
   "metadata": {},
   "outputs": [
    {
     "name": "stdout",
     "output_type": "stream",
     "text": [
      "Enter number: 5\n",
      "*\n",
      "**\n",
      "***\n",
      "****\n",
      "*****\n"
     ]
    }
   ],
   "source": [
    "n = int(input(\"Enter number: \"))\n",
    "\n",
    "i = 1\n",
    "while i <= n:\n",
    "    print(\"*\"*i)\n",
    "    i += 1"
   ]
  },
  {
   "cell_type": "markdown",
   "metadata": {},
   "source": [
    "8. จงเขียนโปรแกรมสร้างรูปพีรามิด ดังตัวอย่างด้านล่างโดยจ านวนชั้นจะรับค่า n จากคีย์บอร์ดเพื่อแสดงผล\n",
    "ดังตัวอย่างน"
   ]
  },
  {
   "cell_type": "code",
   "execution_count": 55,
   "metadata": {},
   "outputs": [
    {
     "name": "stdout",
     "output_type": "stream",
     "text": [
      "Enter number: 5\n",
      "*****\n",
      "****\n",
      "***\n",
      "**\n",
      "*\n"
     ]
    }
   ],
   "source": [
    "n = int(input(\"Enter number: \"))\n",
    "\n",
    "i = 1\n",
    "while n >= i:\n",
    "    print(\"*\"*n)\n",
    "    n -= 1"
   ]
  },
  {
   "cell_type": "markdown",
   "metadata": {},
   "source": [
    "9. จงเขียนโปรแกรมสร้างรูปพีรามิด ดังตัวอย่างด้านล่างโดยจ านวนชั้นจะรับค่า n จากคีย์บอร์ดเพื่อแสดงผล\n",
    "ดังตัวอย่างนี"
   ]
  },
  {
   "cell_type": "code",
   "execution_count": 113,
   "metadata": {},
   "outputs": [
    {
     "name": "stdout",
     "output_type": "stream",
     "text": [
      "Enter number: 3\n",
      "       *\n",
      "     ***\n",
      "   *****\n"
     ]
    }
   ],
   "source": [
    "n = int(input(\"Enter number: \"))\n",
    "\n",
    "for i in range(n):\n",
    "    print(\"  \"*(n-i), \"*\"*(i*2+1))"
   ]
  },
  {
   "cell_type": "markdown",
   "metadata": {},
   "source": [
    "10. จงเขียนโปรแกรมสร้างรูปพีรามิด ดังตัวอย่างด้านล่างโดยจ านวนชั้นจะรับค่า n จากคีย์บอร์ดเพื่อแสดงผล\n",
    "ดังตัวอย่างนี้"
   ]
  },
  {
   "cell_type": "code",
   "execution_count": 112,
   "metadata": {},
   "outputs": [
    {
     "name": "stdout",
     "output_type": "stream",
     "text": [
      "Enter number: 5\n",
      "           *\n",
      "         ***\n",
      "       *****\n",
      "     *******\n",
      "   *********\n",
      "     *******\n",
      "       *****\n",
      "         ***\n",
      "           *\n"
     ]
    }
   ],
   "source": [
    "n = int(input(\"Enter number: \"))\n",
    "\n",
    "for i in range(n):\n",
    "    print(\"  \"*(n-i), \"*\"*(i*2+1))\n",
    "for i in range(n-2, -1,  -1):\n",
    "    print(\"  \"*(n-i), \"*\"*(i*2+1))"
   ]
  },
  {
   "cell_type": "markdown",
   "metadata": {},
   "source": [
    "11. จงเขียนโปรแกรมรับค่า n จากคีย์บอร์ดพร้อมแสดงรูปดังตัวอย่างต่อไปนี้"
   ]
  },
  {
   "cell_type": "code",
   "execution_count": 116,
   "metadata": {},
   "outputs": [
    {
     "name": "stdout",
     "output_type": "stream",
     "text": [
      "Enter number: 3\n",
      "*\n",
      "*  *\n",
      "*    *\n",
      "*      *\n"
     ]
    }
   ],
   "source": [
    "n = int(input(\"Enter number: \"))\n",
    "\n",
    "print(\"*\")\n",
    "i = 1\n",
    "while i <= n:\n",
    "    print(\"*\"+\"  \"*(i)+\"*\")\n",
    "    i += 1"
   ]
  },
  {
   "cell_type": "markdown",
   "metadata": {},
   "source": [
    "12. จงเขียนโปรแกรมรับค่า n จากคีย์บอร์ดพร้อมแสดงรูปดังตัวอย่างต่อไปนี้\n"
   ]
  },
  {
   "cell_type": "code",
   "execution_count": 121,
   "metadata": {},
   "outputs": [
    {
     "name": "stdout",
     "output_type": "stream",
     "text": [
      "Enter number: 5\n",
      "*          *\n",
      "*        *\n",
      "*      *\n",
      "*    *\n",
      "*  *\n",
      "*\n"
     ]
    }
   ],
   "source": [
    "n = int(input(\"Enter number: \"))\n",
    "\n",
    "i = n\n",
    "while i >= 1:\n",
    "    print(\"*\"+\"  \"*(i)+\"*\")\n",
    "    i -= 1\n",
    "print(\"*\")"
   ]
  },
  {
   "cell_type": "markdown",
   "metadata": {},
   "source": [
    "13.จงเขียนโปรแกรมรับค่าตรวจสอบ username และ password และจะรับค่าไปเรื่อย ๆ จนกว่าจะใส่ได้\n",
    "ถูกต้อง โดยโปรแกรมต้องสามารถระบุได้ว่า username หรือ password ที่ผิด และโปรแกรมจะตั้ง\n",
    "username และ password เริ่มต้นมาให้เป็น admin และ 1234 ตามล าดับ และเมื่อ log in ส าเร็จ\n",
    "โปรแกรมจะต้องถามหาถึงการตั้งค่า username และ password ใหม่และแสดงผลลัพธ์ username\n",
    "และ password ที่เปลี่ยนแปลงไปแล้วตามตัวอย่างต่อไปน"
   ]
  },
  {
   "cell_type": "code",
   "execution_count": 2,
   "metadata": {},
   "outputs": [
    {
     "name": "stdout",
     "output_type": "stream",
     "text": [
      "Enter username: admin\n",
      "Enter Password: 1234\n",
      "Enter new username: 555\n",
      "Enter new Password: 555\n"
     ]
    }
   ],
   "source": [
    "User = \"admin\"\n",
    "Pass = \"1234\"\n",
    "\n",
    "while User == \"admin\" and Pass == \"1234\":\n",
    "    username = str(input(\"Enter username: \"))\n",
    "    password = str(input(\"Enter Password: \"))\n",
    "    if username == User and password == Pass :\n",
    "        break\n",
    "    elif username != User and password == Pass :\n",
    "        print(\"Your username is wrong\")\n",
    "    elif username == User and password != Pass :\n",
    "        print(\"Your password is wrong\")\n",
    "    else:\n",
    "        print(\"Your username & password are wrong\")\n",
    "        \n",
    "username = str(input(\"Enter new username: \"))\n",
    "password = str(input(\"Enter new Password: \"))\n",
    "User = username\n",
    "Pass = password"
   ]
  },
  {
   "cell_type": "markdown",
   "metadata": {},
   "source": [
    "14. จงเขียนโปรแกรมรับข้อความ เพื่อตรวจสอบถึงจ านวนตัวพิมพ์ใหญ่ จ านวนตัวพิมพ์เล็ก และอักขระพิเศษ\n",
    "ว่ามีทั้งหมดกี่ตัวในข้อความที่ได้รับเข้ามา ดังตัวอย่าง"
   ]
  },
  {
   "cell_type": "code",
   "execution_count": 10,
   "metadata": {},
   "outputs": [
    {
     "name": "stdout",
     "output_type": "stream",
     "text": [
      "Enter your text: KarnthiLOL@264455\n",
      "Uppercase character number is 4\n",
      "Lower character number is 6\n",
      "Special character number is 7\n"
     ]
    }
   ],
   "source": [
    "word = str(input(\"Enter your text: \"))\n",
    "List = []\n",
    "for i in word:\n",
    "    List.append(i)\n",
    "    \n",
    "Upper = [\"A\",\"B\",\"C\",\"D\",\"E\",\"F\",\"G\",\"H\",\"I\",\"J\",\"K\",\"L\",\"M\",\"N\",\"O\",\"P\",\"Q\",\"R\",\"S\",\"T\",\"U\",\"V\",\"W\",\"X\",\"Y\",\"Z\"]\n",
    "Lower = [\"a\",\"b\",\"c\",\"d\",\"e\",\"f\",\"g\",\"h\",\"i\",\"j\",\"k\",\"l\",\"m\",\"n\",\"o\",\"p\",\"q\",\"r\",\"s\",\"t\",\"u\",\"v\",\"w\",\"x\",\"y\",\"z\"]\n",
    "\n",
    "upper_list = []\n",
    "lower_list = []\n",
    "spe_list = []\n",
    "\n",
    "for e in List:\n",
    "    if e in Upper:\n",
    "        upper_list.append(e)\n",
    "    elif e in Lower:\n",
    "        lower_list.append(e)\n",
    "    else:\n",
    "        spe_list.append(e)\n",
    "        \n",
    "print(\"Uppercase character number is {}\\nLower character number is {}\\nSpecial character number is {}\".format(len(upper_list),len(lower_list),len(spe_list)))"
   ]
  },
  {
   "cell_type": "markdown",
   "metadata": {},
   "source": [
    "15. จงเขียนโปรแกรมรับค่าข้อความไปเรื่อย ๆ โดยข้อมูลที่รับเข้าจะถูกเก็บแบบ Stack เมื่อโปรแกรมรับ\n",
    "ข้อความ ข้อความจะถูกเก็บแบบซ้อนทับ และแสดงผล เมื่อโปรแกรมรับค่า “pop” หากมี item อยู่ข้าง\n",
    "ในให้ท าการน าข้อมูลตัวสุดท้ายออก และแสดงผลข้อมูลที่เหลือ หากไม่มี item อยู่ข้างในให้แสดงข้อความ\n",
    "ว่า “No item inside” และเมื่อโปรแกรมได้รับค าว่า “cancel” ให้โปรแกรมหยุดท างาน และแสดงผล\n",
    "“End the program” ตามตัวอย่างด้านล่างน"
   ]
  },
  {
   "cell_type": "code",
   "execution_count": 3,
   "metadata": {},
   "outputs": [
    {
     "name": "stdout",
     "output_type": "stream",
     "text": [
      "Enter your word items: aa\n",
      "Enter your word items: cc\n",
      "Enter your word items: bb\n",
      "Enter your word items: pop\n",
      "Data >>> bb\n",
      "Enter your word items: show\n",
      "['aa', 'cc']\n",
      "Enter your word items: cancle\n",
      "End the programe\n"
     ]
    }
   ],
   "source": [
    "status = \"on\"\n",
    "Stack = []\n",
    "\n",
    "while status == \"on\":\n",
    "    word = str(input(\"Enter your word items: \"))\n",
    "    n = len(Stack)\n",
    "    if \"pop\" in word and n == 0:\n",
    "        print(\"No item inside\")\n",
    "    elif \"pop\" in word and n != 0:\n",
    "        print(\"Data >>> \"+(Stack[n-1]))\n",
    "        Stack.remove(Stack[n-1])\n",
    "    elif \"show\" in word and n == 0:\n",
    "        print(\"Stack is empty!\")\n",
    "    elif \"show\" in word and n != 0:\n",
    "        print(Stack)\n",
    "    elif \"cancle\" in word:\n",
    "        print(\"End the programe\")\n",
    "        status = \"off\"\n",
    "    else:\n",
    "        Stack.append(word)"
   ]
  },
  {
   "cell_type": "code",
   "execution_count": null,
   "metadata": {},
   "outputs": [],
   "source": []
  }
 ],
 "metadata": {
  "kernelspec": {
   "display_name": "Python 3",
   "language": "python",
   "name": "python3"
  },
  "language_info": {
   "codemirror_mode": {
    "name": "ipython",
    "version": 3
   },
   "file_extension": ".py",
   "mimetype": "text/x-python",
   "name": "python",
   "nbconvert_exporter": "python",
   "pygments_lexer": "ipython3",
   "version": "3.7.6"
  }
 },
 "nbformat": 4,
 "nbformat_minor": 4
}
