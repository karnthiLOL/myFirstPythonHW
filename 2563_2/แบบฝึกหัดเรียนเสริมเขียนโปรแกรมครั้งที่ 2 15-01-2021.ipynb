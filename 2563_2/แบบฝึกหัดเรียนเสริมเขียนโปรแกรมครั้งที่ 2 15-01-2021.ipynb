{
 "cells": [
  {
   "cell_type": "markdown",
   "metadata": {},
   "source": [
    "1. จงเขียนโปรแกรมรับค่าของตัวเลข 1 ค่า จากคีย์บอร์ด และทดสอบว่า เป็นเลขที่หารด้วย 5 ลงตัว หรือไม่"
   ]
  },
  {
   "cell_type": "code",
   "execution_count": 6,
   "metadata": {},
   "outputs": [
    {
     "name": "stdout",
     "output_type": "stream",
     "text": [
      "Enter Number: 5\n",
      "5 is divisible by 5\n"
     ]
    }
   ],
   "source": [
    "number = int(input(\"Enter Number: \"))\n",
    "if (number%5) == 0:\n",
    "    print(\"{} is divisible by 5\".format(str(number)))\n",
    "else:\n",
    "    print(\"{} is not divisible by 5\".format(str(number)))"
   ]
  },
  {
   "cell_type": "markdown",
   "metadata": {},
   "source": [
    "2. จงเขียนโปรแกรมรับค่าของคะแนน (x) จากคีย์บอร์ด และตัดเกรดตามเงื่อนไขต่อไปนี้\n",
    " a. คะแนนมากกว่าหรือเท่ากับ 80 และน้อยกว่าหรือเท่ากับ 100 ได้เกรด Good\n",
    " b. คะแนนมากกว่าหรือเท่ากับ 50 และน้อยกว่า 80 ได้เกรด Pass\n",
    " c. คะแนนมากกว่าหรือเท่ากับ 0 แต่น้อยกว่า 50 ได้เกรด Fail"
   ]
  },
  {
   "cell_type": "code",
   "execution_count": 65,
   "metadata": {},
   "outputs": [
    {
     "name": "stdout",
     "output_type": "stream",
     "text": [
      "80\n",
      "Good\n"
     ]
    }
   ],
   "source": [
    "x = int(input())\n",
    "if x > 100:\n",
    "    print(\"Your Point out of range!!!\")\n",
    "elif x <= 100 and x >= 80:\n",
    "    print(\"Good\")\n",
    "elif x < 80 and x >= 50:\n",
    "    print(\"Pass\")\n",
    "else:\n",
    "    print(\"Fail\")\n"
   ]
  },
  {
   "cell_type": "markdown",
   "metadata": {},
   "source": [
    "3. จงเขียนโปรแกรมเพื่อค านวณคะแนนรวมของผลสอบวิชา Data Structure จากคะแนน Mid-term 100 คะแนน,\n",
    "Final 100 คะแนน และคะแนนการบ้านอีก 10 คะแนน ซึ่งเป็นข้อมูลขาเข้าจากคีย์บอร์ด และแสดง\n",
    "ผลลัพธ์การถ่วงน ้าหนักตามสมการต่อนี้ไป\n",
    "Total = mid-term (40%) + Final (50%) + Homework (10%)\n",
    "จากนั้นตัดเกรดด้วยเงื่อนไขต่อไปนี้\n",
    "คะแนน 90 ≤ X ≤ 100 จะได้ A\n",
    "คะแนน 85 ≤ X < 90 จะได้ B+\n",
    "คะแนน 80 ≤ X < 85 จะได้ B\n",
    "คะแนน 70 ≤ X < 80 จะได้ C+\n",
    "คะแนน 60 ≤ X < 70 จะได้ C\n",
    "คะแนน 55 ≤ X < 60 จะได้ D+\n",
    "คะแนน 50 ≤ X < 55 จะได้ D\n",
    "คะแนน X < 50 จะได้ F"
   ]
  },
  {
   "cell_type": "code",
   "execution_count": 82,
   "metadata": {},
   "outputs": [
    {
     "name": "stdout",
     "output_type": "stream",
     "text": [
      "Enter mid-term score (100): 45\n",
      "Enter final score (100): 90\n",
      "Enter homework score (100): 5\n",
      "You total score is 63.5\n",
      "Grade: C\n"
     ]
    }
   ],
   "source": [
    "mid_term = float(input(\"Enter mid-term score (100): \"))\n",
    "final = float(input(\"Enter final score (100): \"))\n",
    "HW = float(input(\"Enter homework score (100): \"))\n",
    "Total = (mid_term*(0.4) + final*(0.5) + HW*(0.1))\n",
    "total =('%.1f' % Total)\n",
    "grade = \"\"\n",
    "total = float(total)\n",
    "if total > 100:\n",
    "    grade = \"Error!!!\"\n",
    "elif total <= 100 and total >= 90:\n",
    "    grade = \"A\"\n",
    "elif total < 90 and total >= 85:\n",
    "    grade = \"B+\"\n",
    "elif total < 85 and total >= 80:\n",
    "    grade = \"B\"\n",
    "elif total < 80 and total >= 70:\n",
    "    grade = \"C+\"\n",
    "elif total < 70 and total >= 60:\n",
    "    grade = \"C\"\n",
    "elif total < 60 and total >= 55:\n",
    "    grade = \"D+\"\n",
    "elif total < 55 and total >= 50:\n",
    "    grade = \"D\"\n",
    "else:\n",
    "    grade = \"F\"\n",
    "    \n",
    "print(\"You total score is {}\\nGrade: {}\".format(str(total),grade))"
   ]
  },
  {
   "cell_type": "markdown",
   "metadata": {},
   "source": [
    "4. จงเขียนโปรแกรมรับค่าของตัวเลข 2 ค่า จากคีย์บอร์ด และทดสอบเงื่อนไขว่า ค่าใดมากกว่ากัน"
   ]
  },
  {
   "cell_type": "code",
   "execution_count": 86,
   "metadata": {},
   "outputs": [
    {
     "name": "stdout",
     "output_type": "stream",
     "text": [
      "Enter first number: 2\n",
      "Enter second number: 2\n",
      "2 is equal to 2\n"
     ]
    }
   ],
   "source": [
    "First = int(input(\"Enter first number: \"))\n",
    "Second = int(input(\"Enter second number: \"))\n",
    "if First == Second :\n",
    "    print(\"{} is equal to {}\".format(str(First),str(Second)))\n",
    "elif First > Second :\n",
    "    print(\"{} is greater than {}\".format(str(First),str(Second)))\n",
    "elif First < Second :\n",
    "    print(\"{} is less than {}\".format(str(First),str(Second)))\n",
    "else:\n",
    "    print(\"Just FU**ing Error!!!\")"
   ]
  },
  {
   "cell_type": "markdown",
   "metadata": {},
   "source": [
    "5. จงเขียนโปรแกรมรับค่าอายุคน 1 คนและจัดกลุ่มของคนตามอายุที่มีเงื่อนไขดังนี้\n"
   ]
  },
  {
   "cell_type": "code",
   "execution_count": 90,
   "metadata": {},
   "outputs": [
    {
     "name": "stdout",
     "output_type": "stream",
     "text": [
      "Enter your ages: -1\n",
      "กลุ่มอมนุษย์\n"
     ]
    }
   ],
   "source": [
    "age = int(input(\"Enter your ages: \"))\n",
    "if age >= 56:\n",
    "    print(\"กลุ่มวัยสูงอายุ\")\n",
    "elif age >= 36 and age <= 55:\n",
    "    print(\"กลุ่มวัยกลางคน\")\n",
    "elif age >= 21 and age <= 35:\n",
    "    print(\"กลุ่มวัยทำงาน\")\n",
    "elif age >= 11 and age <= 20:\n",
    "    print(\"กลุ่มวัยรุ่น\")\n",
    "elif age >= 0 and age <= 10:\n",
    "    print(\"กลุ่มเด็ก\")\n",
    "else:\n",
    "    print(\"กลุ่มอมนุษย์\")"
   ]
  },
  {
   "cell_type": "markdown",
   "metadata": {},
   "source": [
    "6. จงเขียนโปรแกรมรับค่าของตัวเลือก 1 ค่า จากคีย์บอร์ด และทดสอบว่าเป็นการหาพื้นที่สี่เหลี่ยม หรือ\n",
    "สามเหลี่ยม จากนั้นรับค่าตัวแปรเพื่อหาพื้นที่ของสิ่งที่เลือก "
   ]
  },
  {
   "cell_type": "code",
   "execution_count": 92,
   "metadata": {},
   "outputs": [
    {
     "name": "stdout",
     "output_type": "stream",
     "text": [
      "Select 1(Rectangular), 2(Triangle)2\n",
      "Enter base of Tri: 12\n",
      "Enter height of Tri: 5\n",
      "Area of Triangle is 30.0\n"
     ]
    }
   ],
   "source": [
    "select = str(input(\"Select 1(Rectangular), 2(Triangle)\"))\n",
    "if \"1\" in select:\n",
    "    width = float(input(\"Enter width of Rect: \"))\n",
    "    height = float(input(\"Enter height of Rect: \"))\n",
    "    print(\"Area of Rectangular is {}\".format('%.1f' % (width*height)))\n",
    "elif \"2\" in select:\n",
    "    base = float(input(\"Enter base of Tri: \"))\n",
    "    height = float(input(\"Enter height of Tri: \"))\n",
    "    print(\"Area of Triangle is {}\".format('%.1f' % (base*height*(1/2))))"
   ]
  },
  {
   "cell_type": "markdown",
   "metadata": {},
   "source": [
    "7. จงเขียนโปรแกรมรับตัวเลขของเดือน 1 – 12 จากคีย์บอร์ด และพิมพ์ผลลัพธ์เป็นชื่อของเดือนนั้นๆ\n"
   ]
  },
  {
   "cell_type": "code",
   "execution_count": 68,
   "metadata": {},
   "outputs": [
    {
     "name": "stdout",
     "output_type": "stream",
     "text": [
      "Enter number of month: 1\n",
      "January\n"
     ]
    }
   ],
   "source": [
    "Num_months = int(input(\"Enter number of month: \"))\n",
    "months = [\"January\",\"February\",\"March\",\"April\",\"May\",\"June\",\"July\",\"August\",\"September\",\"October\",\"November\",\"December\"]\n",
    "if Num_months <= 12 and Num_months > 0:\n",
    "    print(months[Num_months - 1])\n",
    "else:\n",
    "    print(\"Error!!!\")"
   ]
  },
  {
   "cell_type": "markdown",
   "metadata": {},
   "source": [
    "8. จงเขียนโปรแกรมรับค่าของเลขจ านวนเต็ม 1 ต าแหน่ง จากคีย์บอร์ด จากนั้นแสดงผลลัพธ์เป็นค าอ่าน\n"
   ]
  },
  {
   "cell_type": "code",
   "execution_count": 73,
   "metadata": {},
   "outputs": [
    {
     "name": "stdout",
     "output_type": "stream",
     "text": [
      "Enter Number (0-9): 111\n",
      "Error!!!\n"
     ]
    }
   ],
   "source": [
    "Num = int(input(\"Enter Number (0-9): \"))\n",
    "ones = [\"Zero\",\"One\",\"Two\",\"Three\",\"Four\",\"Five\",\"Six\",\"Seven\",\"Eight\",\"Nine\"]\n",
    "if Num >= 0 and Num < 10:\n",
    "    print(ones[Num])\n",
    "else:\n",
    "    print(\"Error!!!\")"
   ]
  },
  {
   "cell_type": "markdown",
   "metadata": {},
   "source": [
    "9. จงเขียนโปรแกรมรับค่าตัวเลขจ านวนเต็มบวก จากนั้นแสดงผลค าอ่านตัวเลขชุดนั้นเป็นภาษาอังกฤษ"
   ]
  },
  {
   "cell_type": "code",
   "execution_count": 93,
   "metadata": {},
   "outputs": [
    {
     "data": {
      "text/plain": [
       "'ยากชิบหาย'"
      ]
     },
     "execution_count": 93,
     "metadata": {},
     "output_type": "execute_result"
    }
   ],
   "source": [
    "\"ยากชิบหาย\""
   ]
  },
  {
   "cell_type": "code",
   "execution_count": null,
   "metadata": {},
   "outputs": [],
   "source": []
  }
 ],
 "metadata": {
  "kernelspec": {
   "display_name": "Python 3",
   "language": "python",
   "name": "python3"
  },
  "language_info": {
   "codemirror_mode": {
    "name": "ipython",
    "version": 3
   },
   "file_extension": ".py",
   "mimetype": "text/x-python",
   "name": "python",
   "nbconvert_exporter": "python",
   "pygments_lexer": "ipython3",
   "version": "3.7.6"
  }
 },
 "nbformat": 4,
 "nbformat_minor": 4
}
