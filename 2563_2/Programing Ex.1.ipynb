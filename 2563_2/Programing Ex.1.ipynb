{
 "cells": [
  {
   "cell_type": "markdown",
   "metadata": {},
   "source": [
    "# แบบฝึกหัดพื้นฐานการเขียนโปรแกรม (เสริม) 12/01/2020\n"
   ]
  },
  {
   "cell_type": "markdown",
   "metadata": {},
   "source": [
    "1. จงเขียนโปรแกรมเพื่อค ำนวณหำพื้นที่ของสำมเหลี่ยม Area = ½ x ฐำน x สูง โดยมีข้อมูลเข้ำจำก\n",
    "คีย์บอร์ด คือ ค่ำของฐำนของสำมเหลี่ยม (b) และค่ำควำมสูงของสำมเหลี่ยม (h) จำกนั้นพิมพ์ผลลัพธ์\n",
    "พื้นที่สำมเหลี่ยม ดังตัวอย่ำงนี้"
   ]
  },
  {
   "cell_type": "code",
   "execution_count": 7,
   "metadata": {},
   "outputs": [
    {
     "name": "stdout",
     "output_type": "stream",
     "text": [
      "Program for calculating area of tri-angle\n",
      "enter length of base (m): 10\n",
      "enter height (m): 12\n",
      "Area of tri-angle:  60.0  square-meters\n"
     ]
    }
   ],
   "source": [
    "print(\"Program for calculating area of tri-angle\")\n",
    "b = int(input(\"enter length of base (m): \"))\n",
    "h = int(input(\"enter height (m): \"))\n",
    "area = (1/2)*(b*h)\n",
    "print(\"Area of tri-angle: \",area,\" square-meters\")"
   ]
  },
  {
   "cell_type": "markdown",
   "metadata": {},
   "source": [
    "2. จงเขียนโปรแกรมเพื่อค ำนวณหำปริมำตรของรูปทรงกระบอก Volume = Area x h โดยมีข้อมูลเข้ำจำก\n",
    "คีย์บอร์ด คือ ค่ำรัศมีของพื้นที่หน้ำตัด (r) และค่ำควำมสูงของกระบอก (h) เมื่อก ำหนดให้พื้นที่วงกลม\n",
    "สำมำรถหำได้จำก Area = πr\n",
    "2 ดังตัวอย่างนี้\n"
   ]
  },
  {
   "cell_type": "code",
   "execution_count": 1,
   "metadata": {},
   "outputs": [
    {
     "name": "stdout",
     "output_type": "stream",
     "text": [
      "Programe for cylinder volumn calculation\n",
      "enter radius of cross-sectional area (m): 6\n",
      "enter height of cylinder (m): 8\n",
      "Volumn of cylinder:  905.14  cubic meter\n"
     ]
    }
   ],
   "source": [
    "print(\"Programe for cylinder volumn calculation\")\n",
    "r = int(input(\"enter radius of cross-sectional area (m): \"))\n",
    "h = int(input(\"enter height of cylinder (m): \"))\n",
    "volumn = ((22/7)*(r**2))*h\n",
    "print(\"Volumn of cylinder: \",(\"{0:.2f}\".format(volumn)),\" cubic meter\")"
   ]
  },
  {
   "cell_type": "markdown",
   "metadata": {},
   "source": [
    "3. จงเขียนโปรแกรมเพื่อรับค่ำของเวลำ ณ ปัจจุบัน คือ ชั่วโมง (h) นำที (m) และวินำที (s) เป็นข้อมูลเข้ำ\n",
    "จำกคีย์บอร์ด และพิมพ์ค่ำของเวลำนั้นในรูปแบบ hh:mm:ss ดังตัวอย่ำง"
   ]
  },
  {
   "cell_type": "code",
   "execution_count": 2,
   "metadata": {},
   "outputs": [
    {
     "name": "stdout",
     "output_type": "stream",
     "text": [
      "enter current hour: 10\n",
      "enter current minute: 45\n",
      "enter current second: 5\n",
      "Current times is  10 : 45 : 5\n"
     ]
    }
   ],
   "source": [
    "h = int(input(\"enter current hour: \"))\n",
    "m = int(input(\"enter current minute: \"))\n",
    "s = int(input(\"enter current second: \"))\n",
    "print(\"Current times is \",h,\":\",m,\":\",s)"
   ]
  },
  {
   "cell_type": "markdown",
   "metadata": {},
   "source": [
    "4. จงเขียนโปแกรมเพื่อค ำนวณคะแนนรวมของผลสอบวิชำ Data Structure and Algorithm โดยข้อมูลเข้ำ\n",
    "จำกคีย์บอร์ดประกอบไปด้วย คะแนนสอบกลำงภำค คะแนนสอบปลำยภำค และคะแนนกำรบ้ำน และ\n",
    "แสดงผลลัพธ์จำกกำรค ำนวณน ้ำหนักโดยสมกำรต่อไปนี้"
   ]
  },
  {
   "cell_type": "code",
   "execution_count": 6,
   "metadata": {},
   "outputs": [
    {
     "name": "stdout",
     "output_type": "stream",
     "text": [
      "Total = mid-term (40%) + Final (50%) + Homework (10%)\n",
      "enter mid-term score (100): 60\n",
      "enter final score (100): 85\n",
      "enter homework score (100): 100\n",
      "total score:  76.5\n"
     ]
    }
   ],
   "source": [
    "print(\"Total = mid-term (40%) + Final (50%) + Homework (10%)\")\n",
    "midterm = int(input(\"enter mid-term score (100): \"))\n",
    "final = int(input(\"enter final score (100): \"))\n",
    "homework = int(input(\"enter homework score (100): \"))\n",
    "Total = (midterm*(40/100)) + (final*(50/100)) + (homework*(10/100))\n",
    "print(\"total score: \",(\"{0:.1f}\".format(Total)))"
   ]
  },
  {
   "cell_type": "markdown",
   "metadata": {},
   "source": [
    "5. จงเขียนโปรแกรมค ำนวณหำค่ำเฉลี่ย โดยกำรรับข้อมูลจ ำนวน 4 ค่ำจำกคีย์บอร์ดเพื่อเก็บไว้ในตัวแปร x1\n",
    "x2 x3 และ x4 ดังตัวอย่ำงน"
   ]
  },
  {
   "cell_type": "code",
   "execution_count": 7,
   "metadata": {},
   "outputs": [
    {
     "name": "stdout",
     "output_type": "stream",
     "text": [
      "enter value of X1: 10\n",
      "enter value of X2: 15\n",
      "enter value of X3: 20\n",
      "enter value of X4: 25\n",
      "Mean is  17.5\n"
     ]
    }
   ],
   "source": [
    "x_1 = int(input(\"enter value of X1: \"))\n",
    "x_2 = int(input(\"enter value of X2: \"))\n",
    "x_3 = int(input(\"enter value of X3: \"))\n",
    "x_4 = int(input(\"enter value of X4: \"))\n",
    "Mean = (x_1 + x_2 + x_3 + x_4)/4\n",
    "print(\"Mean is \",(\"{0:.1f}\".format(Mean)))"
   ]
  },
  {
   "cell_type": "markdown",
   "metadata": {},
   "source": [
    "6. ให้นักศึกษำเขียนโปรแกรมรับค่ำตัวแปร w x y และ z จำกคีย์บอร์ดจำกนั้นค ำนวณผลลัพธ์ต่อไปนี้พร้อม\n",
    "แสดงค่ำ"
   ]
  },
  {
   "cell_type": "code",
   "execution_count": 17,
   "metadata": {},
   "outputs": [
    {
     "name": "stdout",
     "output_type": "stream",
     "text": [
      "enter w: 2\n",
      "enter x: 3\n",
      "enter y: 4\n",
      "enter z: 5\n",
      "3*w*w + x*y =  24.0\n",
      "x*x + y - z*z*z*z*z  -12.0\n",
      "2*x*x + y*z + 5 =  123.0\n",
      "(x + y)/z =  1.4\n",
      "w - x/y - z*z =  -23.8\n"
     ]
    }
   ],
   "source": [
    "w = int(input(\"enter w: \"))\n",
    "x = int(input(\"enter x: \"))\n",
    "y = int(input(\"enter y: \"))\n",
    "z = int(input(\"enter z: \"))\n",
    "A = (3*(w*w)) + (x*y)\n",
    "B = (x**2) + y - (z**2)\n",
    "C = 2*(x**2) + y*(z**2) + 5\n",
    "E = (x+y)/z\n",
    "F = w - (x/y) - (z**2)\n",
    "print(\"3*w*w + x*y = \",(\"{0:.1f}\".format(A)))\n",
    "print(\"x*x + y - z*z*z*z*z \",(\"{0:.1f}\".format(B)))\n",
    "print(\"2*x*x + y*z + 5 = \",(\"{0:.1f}\".format(C)))\n",
    "print(\"(x + y)/z = \",(\"{0:.1f}\".format(E)))\n",
    "print(\"w - x/y - z*z = \",(\"{0:.1f}\".format(F)))"
   ]
  },
  {
   "cell_type": "markdown",
   "metadata": {},
   "source": [
    "7. ให้นักศึกษำพิจำรณำโปรแกรมต่อไปนี้ และระบุข้อผิดพลำดของโปรแกรมพร้อมบอกถึงวิธีกำรแก้ไข"
   ]
  },
  {
   "cell_type": "code",
   "execution_count": 30,
   "metadata": {},
   "outputs": [
    {
     "name": "stdout",
     "output_type": "stream",
     "text": [
      "Enter your name: Karnthi\n",
      "Enter your surname: Phothidara\n",
      "enter number1: 2\n",
      "enter number2: 1\n",
      "Your name is Karnthi Phothidara and the result of 2 - 1 = 1\n"
     ]
    }
   ],
   "source": [
    "#name = print(\"Enter your name: \")\n",
    "#surname = print(\"Enter your surname: \")\n",
    "#number1 = input(\"enter number1: \")\n",
    "#number2 = input(\"enter number2: \")\n",
    "#print{\"Your name is {} {} and the result of {} - {} = {}\".format(name,surmane,number1,number2,number1-number2)}\n",
    "\n",
    "name = str(input(\"Enter your name: \"))\n",
    "surname = str(input(\"Enter your surname: \"))\n",
    "number1 = str(input(\"enter number1: \"))\n",
    "number2 = str(input(\"enter number2: \"))\n",
    "result = str(int(number1) - int(number2))\n",
    "print(\"Your name is {} {} and the result of {} - {} = {}\".format(name,surname,number1,number2,result))"
   ]
  },
  {
   "cell_type": "code",
   "execution_count": null,
   "metadata": {},
   "outputs": [],
   "source": []
  }
 ],
 "metadata": {
  "kernelspec": {
   "display_name": "Python 3",
   "language": "python",
   "name": "python3"
  },
  "language_info": {
   "codemirror_mode": {
    "name": "ipython",
    "version": 3
   },
   "file_extension": ".py",
   "mimetype": "text/x-python",
   "name": "python",
   "nbconvert_exporter": "python",
   "pygments_lexer": "ipython3",
   "version": "3.7.6"
  }
 },
 "nbformat": 4,
 "nbformat_minor": 4
}
