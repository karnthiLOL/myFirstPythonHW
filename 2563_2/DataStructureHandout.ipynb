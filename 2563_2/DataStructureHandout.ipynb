{
 "cells": [
  {
   "cell_type": "markdown",
   "metadata": {},
   "source": [
    "# DataStructureHandout"
   ]
  },
  {
   "cell_type": "markdown",
   "metadata": {},
   "source": [
    "## Exercise Question 1:"
   ]
  },
  {
   "cell_type": "markdown",
   "metadata": {},
   "source": [
    "### Given a two list. Create a third list by picking an odd-index element from the first list and even index elements from second"
   ]
  },
  {
   "cell_type": "code",
   "execution_count": 5,
   "metadata": {},
   "outputs": [
    {
     "name": "stdout",
     "output_type": "stream",
     "text": [
      "[6, 12, 18, 4, 12, 20, 28]\n"
     ]
    }
   ],
   "source": [
    "# Given list\n",
    "#listOne = [3,6,9,12,15,18,21]\n",
    "#lsitTwo = [4,8,12,16,20,24,28]\n",
    "\n",
    "list_1 = [6,12,18]\n",
    "list_2 = [4,12,20,28]\n",
    "list_3 = list_1 + list_2\n",
    "\n",
    "print(list_3)"
   ]
  },
  {
   "cell_type": "markdown",
   "metadata": {},
   "source": [
    "## Exercise Question 2:"
   ]
  },
  {
   "cell_type": "markdown",
   "metadata": {},
   "source": [
    "### Given an input list removes the element at index 4 and add it to the 2nd position and also, at the end of the list"
   ]
  },
  {
   "cell_type": "code",
   "execution_count": 31,
   "metadata": {},
   "outputs": [],
   "source": [
    "List = [34,54,67,89,11,43,94]\n",
    "\n",
    "x = List[4]"
   ]
  },
  {
   "cell_type": "code",
   "execution_count": 32,
   "metadata": {},
   "outputs": [],
   "source": [
    "#remove List[4]\n",
    "List.remove(List[4])"
   ]
  },
  {
   "cell_type": "code",
   "execution_count": 33,
   "metadata": {},
   "outputs": [
    {
     "name": "stdout",
     "output_type": "stream",
     "text": [
      "[34, 54, 67, 89, 43, 94]\n"
     ]
    }
   ],
   "source": [
    "print(List)"
   ]
  },
  {
   "cell_type": "code",
   "execution_count": 34,
   "metadata": {},
   "outputs": [],
   "source": [
    "#insert to List[2]\n",
    "List.insert(2,x)"
   ]
  },
  {
   "cell_type": "code",
   "execution_count": 35,
   "metadata": {},
   "outputs": [
    {
     "name": "stdout",
     "output_type": "stream",
     "text": [
      "[34, 54, 11, 67, 89, 43, 94]\n"
     ]
    }
   ],
   "source": [
    "print(List)"
   ]
  },
  {
   "cell_type": "code",
   "execution_count": 36,
   "metadata": {},
   "outputs": [],
   "source": [
    "#insert to end of List\n",
    "n = len(List)\n",
    "List.insert(n,x)"
   ]
  },
  {
   "cell_type": "code",
   "execution_count": 37,
   "metadata": {},
   "outputs": [
    {
     "name": "stdout",
     "output_type": "stream",
     "text": [
      "[34, 54, 11, 67, 89, 43, 94, 11]\n"
     ]
    }
   ],
   "source": [
    "print(List)"
   ]
  },
  {
   "cell_type": "markdown",
   "metadata": {},
   "source": [
    "## Exercise Question 3:"
   ]
  },
  {
   "cell_type": "markdown",
   "metadata": {},
   "source": [
    "### Given a list slice it into a 3 equal chunks and reverse each list"
   ]
  },
  {
   "cell_type": "code",
   "execution_count": 42,
   "metadata": {},
   "outputs": [],
   "source": [
    "OrList = [11,45,8,23,14,12,78,45,89]\n",
    "\n",
    "Chunk_1 = []\n",
    "Chunk_2 = []\n",
    "Chunk_3 = []\n",
    "\n",
    "for i in OrList:\n",
    "    if len(Chunk_1) < 3:\n",
    "        Chunk_1.append(i)\n",
    "    elif len(Chunk_2) < 3:\n",
    "        Chunk_2.append(i)\n",
    "    elif len(Chunk_3) < 3:\n",
    "        Chunk_3.append(i)"
   ]
  },
  {
   "cell_type": "code",
   "execution_count": 47,
   "metadata": {},
   "outputs": [
    {
     "name": "stdout",
     "output_type": "stream",
     "text": [
      "Original: [8, 45, 11]\n",
      "Reverse: [11, 45, 8]\n"
     ]
    }
   ],
   "source": [
    "print(\"Original:\",Chunk_1)\n",
    "Chunk_1.reverse()\n",
    "print(\"Reverse:\",Chunk_1)"
   ]
  },
  {
   "cell_type": "code",
   "execution_count": 48,
   "metadata": {},
   "outputs": [
    {
     "name": "stdout",
     "output_type": "stream",
     "text": [
      "Original: [23, 14, 12]\n",
      "Reverse: [12, 14, 23]\n"
     ]
    }
   ],
   "source": [
    "print(\"Original:\",Chunk_2)\n",
    "Chunk_2.reverse()\n",
    "print(\"Reverse:\",Chunk_2)"
   ]
  },
  {
   "cell_type": "code",
   "execution_count": 49,
   "metadata": {},
   "outputs": [
    {
     "name": "stdout",
     "output_type": "stream",
     "text": [
      "Original: [78, 45, 89]\n",
      "Reverse: [89, 45, 78]\n"
     ]
    }
   ],
   "source": [
    "print(\"Original:\",Chunk_3)\n",
    "Chunk_3.reverse()\n",
    "print(\"Reverse:\",Chunk_3)"
   ]
  },
  {
   "cell_type": "markdown",
   "metadata": {},
   "source": [
    "## Exercise Question 4:"
   ]
  },
  {
   "cell_type": "markdown",
   "metadata": {},
   "source": [
    "### Given a list iterate it and count the occurrence of each element and create a dictionary to show the count of each element"
   ]
  },
  {
   "cell_type": "code",
   "execution_count": 57,
   "metadata": {},
   "outputs": [
    {
     "name": "stdout",
     "output_type": "stream",
     "text": [
      "11: 2 , 45: 3 , 8: 1 , 23: 2 , 89: 1\n"
     ]
    }
   ],
   "source": [
    "List = [11,45,8,11,23,45,23,45,89]\n",
    "\n",
    "x = List.count(11)\n",
    "y = List.count(45)\n",
    "z = List.count(8)\n",
    "w = List.count(23)\n",
    "v = List.count(89)\n",
    "\n",
    "print(\"11:\",x,\", 45:\",y,\", 8:\",z,\", 23:\",w,\", 89:\",v)\n"
   ]
  },
  {
   "cell_type": "markdown",
   "metadata": {},
   "source": [
    "## Exercise Question 5:"
   ]
  },
  {
   "cell_type": "markdown",
   "metadata": {},
   "source": [
    "### Given a two list of equal size create a set such that it shows the element from both lists in the pair"
   ]
  },
  {
   "cell_type": "code",
   "execution_count": 77,
   "metadata": {},
   "outputs": [],
   "source": [
    "F_list = [2,3,4,5,6,7,8,9,10]\n",
    "S_list = [4,9,16,25,36,49,64]\n",
    "\n",
    "result = []\n",
    "\n",
    "for i in F_list:\n",
    "    for e in S_list:\n",
    "        if (i**2) == e:\n",
    "            result.append((i,e))"
   ]
  },
  {
   "cell_type": "code",
   "execution_count": 78,
   "metadata": {},
   "outputs": [
    {
     "name": "stdout",
     "output_type": "stream",
     "text": [
      "[(2, 4), (3, 9), (4, 16), (5, 25), (6, 36), (7, 49), (8, 64)]\n"
     ]
    }
   ],
   "source": [
    "print(result)"
   ]
  },
  {
   "cell_type": "markdown",
   "metadata": {},
   "source": [
    "## Exercise Question 6:"
   ]
  },
  {
   "cell_type": "markdown",
   "metadata": {},
   "source": [
    "### Given a following two sets find the intersection and remove those elements from the first set"
   ]
  },
  {
   "cell_type": "code",
   "execution_count": 79,
   "metadata": {},
   "outputs": [
    {
     "name": "stdout",
     "output_type": "stream",
     "text": [
      "intersection: {57, 83, 29}\n",
      "F_set after removing common element: {65, 42, 78, 23}\n"
     ]
    }
   ],
   "source": [
    "F_set = {65,42,78,83,23,57,29}\n",
    "S_set = {67,73,43,48,83,57,29}\n",
    "\n",
    "Inter = F_set.intersection(S_set)\n",
    "New_set = F_set - Inter\n",
    "\n",
    "print(\"intersection:\",Inter)\n",
    "print(\"F_set after removing common element:\",New_set)"
   ]
  },
  {
   "cell_type": "markdown",
   "metadata": {},
   "source": [
    "## Exercise Question 7:"
   ]
  },
  {
   "cell_type": "markdown",
   "metadata": {},
   "source": [
    "### Given two sets, Checks if One Set is Subset or superset of Another Set. if the subset is found delete all elements from that set"
   ]
  },
  {
   "cell_type": "code",
   "execution_count": 109,
   "metadata": {},
   "outputs": [
    {
     "name": "stdout",
     "output_type": "stream",
     "text": [
      "First set is subset of second set - True\n",
      "Second set is subset of First set - False\n",
      "\n",
      "\n",
      "First set is superset of second set - False\n",
      "Second set is superset of First set - True\n",
      "\n",
      "\n",
      "First set: set()\n",
      "Second set: {34, 43, 48, 53, 22, 27, 93}\n"
     ]
    }
   ],
   "source": [
    "F_set = {27,43,34}\n",
    "S_set = {34,93,22,27,43,53,48}\n",
    "\n",
    "#F_set = {34,93,22,27,43,53,48}\n",
    "#S_set = {27,43,34}\n",
    "\n",
    "#F_set = {57,83,29}\n",
    "#S_set = {67,73,43,48,83,57,29}\n",
    "\n",
    "print(\"First set is subset of second set -\",F_set.issubset(S_set))\n",
    "print(\"Second set is subset of First set -\",S_set.issubset(F_set))\n",
    "print(\"\")\n",
    "print(\"\")\n",
    "print(\"First set is superset of second set -\",F_set.issuperset(S_set))\n",
    "print(\"Second set is superset of First set -\",S_set.issuperset(F_set))\n",
    "print(\"\")\n",
    "print(\"\")\n",
    "\n",
    "if F_set.issubset(S_set):\n",
    "    F_set.clear()\n",
    "    print(\"First set:\",F_set)\n",
    "    print(\"Second set:\",S_set)\n",
    "else:\n",
    "    print(\"First set:\",F_set)\n",
    "    print(\"Second set:\",S_set)"
   ]
  },
  {
   "cell_type": "markdown",
   "metadata": {},
   "source": [
    "## Exercise Question 8:"
   ]
  },
  {
   "cell_type": "markdown",
   "metadata": {},
   "source": [
    "### Iterate a given list and Check if a given element already exists in a dictionary as a key’s value if not delete it from the list"
   ]
  },
  {
   "cell_type": "code",
   "execution_count": 128,
   "metadata": {},
   "outputs": [
    {
     "name": "stdout",
     "output_type": "stream",
     "text": [
      "after removing unwanted element from list   [47, 69, 76, 97]\n"
     ]
    }
   ],
   "source": [
    "rollNumber = [47,64,69,39,76,83,95,97]\n",
    "sampleDict = {'jhon':47,'Emma':69,'Kelly':76,'Kason':97}\n",
    "\n",
    "x = sampleDict.values()\n",
    "y = [47,64,69,39,76,83,95,97]\n",
    "\n",
    "for i in range(len(y)) :\n",
    "    if y[i] not in x :\n",
    "        rollNumber.remove(y[i])\n",
    "\n",
    "print('after removing unwanted element from list  ',rollNumber)"
   ]
  },
  {
   "cell_type": "markdown",
   "metadata": {},
   "source": [
    "## Exercise Question 9:"
   ]
  },
  {
   "cell_type": "markdown",
   "metadata": {},
   "source": [
    "### Given a dictionary get all values from the dictionary and add it in a list but don’t add duplicates"
   ]
  },
  {
   "cell_type": "code",
   "execution_count": 129,
   "metadata": {},
   "outputs": [
    {
     "name": "stdout",
     "output_type": "stream",
     "text": [
      "[47, 52, 44, 53, 54]\n"
     ]
    }
   ],
   "source": [
    "speed ={'jan':47, 'feb':52, 'march':47, 'April':44, 'May':52, 'June':53, 'july': 54, 'Aug':44, 'Sept':54}\n",
    "\n",
    "N_speed = speed.values()\n",
    "List = []\n",
    "\n",
    "for i in N_speed:\n",
    "    if i not in List:\n",
    "        List.append(i)\n",
    "        \n",
    "print(List)"
   ]
  },
  {
   "cell_type": "markdown",
   "metadata": {},
   "source": [
    "## Exercise Question 10:"
   ]
  },
  {
   "cell_type": "markdown",
   "metadata": {},
   "source": [
    "### Remove duplicate from a list and create a tuple and find the minimum and maximum number"
   ]
  },
  {
   "cell_type": "code",
   "execution_count": 132,
   "metadata": {},
   "outputs": [
    {
     "name": "stdout",
     "output_type": "stream",
     "text": [
      "tuple =  (87, 45, 41, 65, 94, 99)\n",
      "min :  41 max :  99\n"
     ]
    }
   ],
   "source": [
    "GivenList = [87,45,41,65,94,41,99,94]\n",
    "\n",
    "Tuple = []\n",
    "\n",
    "for i in GivenList:\n",
    "    if i not in Tuple:\n",
    "        Tuple.append(i)\n",
    "        \n",
    "print(\"tuple = \",tuple(Tuple))\n",
    "print(\"min : \",min(Tuple),'max : ',max(Tuple))"
   ]
  },
  {
   "cell_type": "code",
   "execution_count": null,
   "metadata": {},
   "outputs": [],
   "source": []
  }
 ],
 "metadata": {
  "kernelspec": {
   "display_name": "Python 3",
   "language": "python",
   "name": "python3"
  },
  "language_info": {
   "codemirror_mode": {
    "name": "ipython",
    "version": 3
   },
   "file_extension": ".py",
   "mimetype": "text/x-python",
   "name": "python",
   "nbconvert_exporter": "python",
   "pygments_lexer": "ipython3",
   "version": "3.7.6"
  }
 },
 "nbformat": 4,
 "nbformat_minor": 4
}
