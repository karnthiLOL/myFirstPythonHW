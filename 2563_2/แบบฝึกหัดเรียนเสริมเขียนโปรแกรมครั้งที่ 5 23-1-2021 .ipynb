{
 "cells": [
  {
   "cell_type": "markdown",
   "metadata": {},
   "source": [
    "แบบฝึกหัดเรียนเสริมเขียนโปรแกรมครั้งที่ 5 23-1-2021 "
   ]
  },
  {
   "cell_type": "markdown",
   "metadata": {},
   "source": [
    "1. จงสร้างฟังก์ชันแสดงเนื้อเพลง happy birthday ดังตัวอย่างผลลัพธ์นี้"
   ]
  },
  {
   "cell_type": "code",
   "execution_count": 3,
   "metadata": {},
   "outputs": [
    {
     "name": "stdout",
     "output_type": "stream",
     "text": [
      "Happy birthday to you\n",
      "Happy birthday to you\n",
      "Happy birthday happy birthday\n",
      "Happy birthday to you\n"
     ]
    }
   ],
   "source": [
    "def HappyBirthday():\n",
    "    print(\"Happy birthday to you\\nHappy birthday to you\\nHappy birthday happy birthday\\nHappy birthday to you\")\n",
    "\n",
    "HappyBirthday()"
   ]
  },
  {
   "cell_type": "markdown",
   "metadata": {},
   "source": [
    "2. จงสร้างฟังก์ชันเพื่อเรียกใช้ฟังก์ชันแสดงเนื้อเพลง happy birthday โดยรับค่าอาร์กิวเมนต์เป็น\n",
    "จ านวนรอบที่จะเรียกใช้ฟังก์ชันแสดงเนื้อเพลง happy birthday ดังตัวอย่างผลลัพธ์นี้\n"
   ]
  },
  {
   "cell_type": "code",
   "execution_count": 10,
   "metadata": {},
   "outputs": [
    {
     "name": "stdout",
     "output_type": "stream",
     "text": [
      "\n",
      "Happy birthday to you\n",
      "Happy birthday to you\n",
      "Happy birthday happy birthday\n",
      "Happy birthday to you\n",
      "\n",
      "Happy birthday to you\n",
      "Happy birthday to you\n",
      "Happy birthday happy birthday\n",
      "Happy birthday to you\n",
      "\n"
     ]
    }
   ],
   "source": [
    "def n_HappyBirthday(n):\n",
    "    print(\"\\nHappy birthday to you\\nHappy birthday to you\\nHappy birthday happy birthday\\nHappy birthday to you\\n\"*n)\n",
    "    \n",
    "n_HappyBirthday(2)"
   ]
  },
  {
   "cell_type": "markdown",
   "metadata": {},
   "source": [
    "3. จงสร้างฟังก์ชันแสดงเนื้อเพลง happy birthday โดยรับค่าอาร์กิวเมนต์เป็นชื่อคน และจ านวนรอบที่\n",
    "อยากให้แสดงเนื้อเพลง และผลลัพธ์ของการแสดงผลจะเปลี่ยนค าว่า you ในเนื้อเพลงเป็นชื่อคน และ\n",
    "แสดงเนื้อเพลงตามจ านวนรอบที่รับเข้ามา ดังตัวอย่างนี้\n"
   ]
  },
  {
   "cell_type": "code",
   "execution_count": 11,
   "metadata": {},
   "outputs": [
    {
     "name": "stdout",
     "output_type": "stream",
     "text": [
      "\n",
      "Happy birthday to KIM\n",
      "Happy birthday to KIM\n",
      "Happy birthday happy birthday\n",
      "Happy birthday to KIM\n",
      "\n",
      "Happy birthday to KIM\n",
      "Happy birthday to KIM\n",
      "Happy birthday happy birthday\n",
      "Happy birthday to KIM\n",
      "\n",
      "Happy birthday to KIM\n",
      "Happy birthday to KIM\n",
      "Happy birthday happy birthday\n",
      "Happy birthday to KIM\n",
      "\n"
     ]
    }
   ],
   "source": [
    "def n_name_HappyBirthday(n,name):\n",
    "    name = str(name)\n",
    "    n = int(n)\n",
    "    print((\"\\nHappy birthday to {}\\nHappy birthday to {}\\nHappy birthday happy birthday\\nHappy birthday to {}\\n\".format(name,name,name))*n)\n",
    "    \n",
    "n_name_HappyBirthday(3,\"KIM\")"
   ]
  },
  {
   "cell_type": "markdown",
   "metadata": {},
   "source": [
    "4. จงสร้างฟังก์ชันสำหรับแสดงสูตรคูณแม่ n ตามตัวอย่างนี้"
   ]
  },
  {
   "cell_type": "code",
   "execution_count": 14,
   "metadata": {},
   "outputs": [
    {
     "name": "stdout",
     "output_type": "stream",
     "text": [
      "1 x 5 = 5\n",
      "2 x 5 = 10\n",
      "3 x 5 = 15\n",
      "4 x 5 = 20\n",
      "5 x 5 = 25\n",
      "6 x 5 = 30\n",
      "7 x 5 = 35\n",
      "8 x 5 = 40\n",
      "9 x 5 = 45\n",
      "10 x 5 = 50\n",
      "11 x 5 = 55\n",
      "12 x 5 = 60\n"
     ]
    }
   ],
   "source": [
    "def mul_table(n):\n",
    "    for i in range(12):\n",
    "        print(\"{} x {} = {}\".format(i+1,n,(i+1)*n))\n",
    "        \n",
    "mul_table(5)"
   ]
  },
  {
   "cell_type": "markdown",
   "metadata": {},
   "source": [
    "5. จงเขียนฟังก์ชันเพื่อแสดงกระดานหมากรุกนานาช ดังตัวอย่างนี้"
   ]
  },
  {
   "cell_type": "code",
   "execution_count": 18,
   "metadata": {},
   "outputs": [
    {
     "name": "stdout",
     "output_type": "stream",
     "text": [
      "♜♞♝♛♚♝♞♜\n",
      "♟♟♟♟♟♟♟♟\n",
      "\n",
      "\n",
      "\n",
      "\n",
      "\n",
      "♙♙♙♙♙♙♙♙\n",
      "♖♘♗♕♔♗♘♖\n"
     ]
    }
   ],
   "source": [
    "def chess():\n",
    "    print(\"♜♞♝♛♚♝♞♜\\n♟♟♟♟♟♟♟♟\")\n",
    "    print(\"\\n\"*4)\n",
    "    print(\"♙♙♙♙♙♙♙♙\\n♖♘♗♕♔♗♘♖\")\n",
    "\n",
    "chess()"
   ]
  },
  {
   "cell_type": "markdown",
   "metadata": {},
   "source": [
    "6. จงเขียนฟังก์ชันสำหรับหาค่าเฉลี่ย โดยฟังก์ชันจะรับค่าตัวแปร List เพื่อนำค่าตัวเลขจากตัวแปรไป\n",
    "คำนวณ และคืนค่าเป็นค่าเฉลี่ยของตัวเลขในตัวแปร List\n"
   ]
  },
  {
   "cell_type": "code",
   "execution_count": 24,
   "metadata": {},
   "outputs": [
    {
     "data": {
      "text/plain": [
       "3.5"
      ]
     },
     "execution_count": 24,
     "metadata": {},
     "output_type": "execute_result"
    }
   ],
   "source": [
    "def avg(List):\n",
    "    Sum = 0\n",
    "    Range = len(List)\n",
    "    for i in List:\n",
    "        Sum += i\n",
    "    Sum = float(Sum)\n",
    "    Range = float(Range)\n",
    "    avg = Sum/Range\n",
    "    return(avg)\n",
    "\n",
    "avg([2,3,4,5])"
   ]
  },
  {
   "cell_type": "markdown",
   "metadata": {},
   "source": [
    "7. จงสร้างฟังก์ชัน max() และ min() เพื่อรับค่าอาร์กิวเมนต์เป็นตัวแปร List ที่เก็บค่าตัวเลขชุดหนึ่ง และ\n",
    "คืนค่าเป็นค่าสูงสุด และค่าต่ำสุดตามลำดับ"
   ]
  },
  {
   "cell_type": "code",
   "execution_count": 34,
   "metadata": {},
   "outputs": [
    {
     "name": "stdout",
     "output_type": "stream",
     "text": [
      "99\n",
      "1\n"
     ]
    }
   ],
   "source": [
    "def MAX(List):\n",
    "    x = (List[0])\n",
    "    for i in List:\n",
    "        if i > x:\n",
    "            x = i\n",
    "        else:\n",
    "            pass\n",
    "    return(x)\n",
    "\n",
    "def MIN(List):\n",
    "    y = (List[0])\n",
    "    for i in List:\n",
    "        if i < y:\n",
    "            y = i\n",
    "        else:\n",
    "            pass\n",
    "    return(y)\n",
    "\n",
    "print(MAX([1,3,5,99,50,2]))\n",
    "print(MIN([1,3,5,99,50,2]))"
   ]
  },
  {
   "cell_type": "markdown",
   "metadata": {},
   "source": [
    "8. จงสร้างฟังก์ชันสำหรับคำนวณความห่างของจุด 2 จุดในกราฟ 2 มิติ โดยรับค่าเป็นพิกัด x และ y ของ\n",
    "จุดทั้ง 2 จุด และคืนค่าเป็นความห่างของจุด ดังตัวอย่าง"
   ]
  },
  {
   "cell_type": "code",
   "execution_count": 37,
   "metadata": {},
   "outputs": [
    {
     "data": {
      "text/plain": [
       "4.47213595499958"
      ]
     },
     "execution_count": 37,
     "metadata": {},
     "output_type": "execute_result"
    }
   ],
   "source": [
    "def diff(point_1,point_2):\n",
    "    x_1 = point_1[0]\n",
    "    x_2 = point_2[0]\n",
    "    y_1 = point_1[1]\n",
    "    y_2 = point_2[1]\n",
    "    diff = (((x_1 - x_2)**2) + ((y_1 - y_2)**2))**(1/2)\n",
    "    return(diff)\n",
    "\n",
    "diff([2,5],[-2,7])"
   ]
  },
  {
   "cell_type": "markdown",
   "metadata": {},
   "source": [
    "9. จงสร้างฟังก์ชันสำหรับการแก้สมการกำลังสองตัวแปรเดียวตามสูตรต่อไปนี้\n",
    " x = (-b+,-((b**2 - (4*a*c))**(1/2)))/(2*a)\n",
    "    โดยฟังก์ชันจะรับค่าอาร์กิวเมนต์เป็นค่าสัมประสิทธิ์ทั้ง 3 ตัว ของสมการ และต้องมีการกำหนดค่า\n",
    "อาร์กิวเมนต์เริ่มต้นให้พารามิเตอร์ด้วยส ำหรับกรณีที่ไม่มีการส่งค่าใด ๆ มา (ก ำหนดเป็น 0) และเนื่อง\n",
    "ด้วยมีการใช้รากที่ 2 ให้นักศึกษาเขียนโปรแกรมดักการ error ของโปรแกรมในกรณีที่รากที่ 2 ติดลบ"
   ]
  },
  {
   "cell_type": "code",
   "execution_count": 73,
   "metadata": {},
   "outputs": [
    {
     "name": "stdout",
     "output_type": "stream",
     "text": [
      "Number in SQRT is negative number !!?\n"
     ]
    }
   ],
   "source": [
    "def cal_equ(a = 0,b = 0,c = 0):\n",
    "    \n",
    "    root = ((b**2)-(4*a*c))**1/2\n",
    "    \n",
    "    if root < 0:\n",
    "        print(\"Number in SQRT is negative number !!?\")\n",
    "        \n",
    "    else:\n",
    "        x1 = ((-b)+root)/(2*a)\n",
    "        x2 = ((-b)-root)/(2*a)\n",
    "        print(\"X1 = {}\\nX2 = {}\".format(x1,x2))\n",
    "        \n",
    "cal_equ(a = 5,b = 2,c = 7)"
   ]
  },
  {
   "cell_type": "markdown",
   "metadata": {},
   "source": [
    "10. จงเขียนฟังก์ชันรับตัวแปร List ที่มีค่าตัวเลขจำนวนเต็มบรรจุอยู่ ซึ่งตัวเลขในตัวแปรดังกล่าวอาจมี\n",
    "ค่าตัวเลขที่ซ้ำกันอยู่ ให้โปรแกรมคืนค่าเป็นตัวแปร List ที่มีค่าตัวเลขแบบไม่ซ้ำกัน ดังตัวอย่างนี้"
   ]
  },
  {
   "cell_type": "code",
   "execution_count": 75,
   "metadata": {},
   "outputs": [
    {
     "data": {
      "text/plain": [
       "[1, 2, 3, 4, 5]"
      ]
     },
     "execution_count": 75,
     "metadata": {},
     "output_type": "execute_result"
    }
   ],
   "source": [
    "def unique_list(List):\n",
    "    Result = []\n",
    "    check = 0\n",
    "    for i in List:\n",
    "        if check == i:\n",
    "            pass\n",
    "        else:\n",
    "            Result.append(i)\n",
    "            check = i\n",
    "    return(Result)\n",
    "\n",
    "unique_list([1,2,3,3,3,3,4,4,4,4,4,5,5,5,5,5])"
   ]
  }
 ],
 "metadata": {
  "kernelspec": {
   "display_name": "Python 3",
   "language": "python",
   "name": "python3"
  },
  "language_info": {
   "codemirror_mode": {
    "name": "ipython",
    "version": 3
   },
   "file_extension": ".py",
   "mimetype": "text/x-python",
   "name": "python",
   "nbconvert_exporter": "python",
   "pygments_lexer": "ipython3",
   "version": "3.7.6"
  }
 },
 "nbformat": 4,
 "nbformat_minor": 4
}
