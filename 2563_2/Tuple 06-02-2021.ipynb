{
 "cells": [
  {
   "cell_type": "markdown",
   "metadata": {},
   "source": [
    "1. จงประกาศค่าตัวแปร Tuple ที่มี type ของข้อมูลต่าง ๆ (integer, string, float เป็นต้น) และแสดงค่า\n",
    "หนึ่งในนั้นออกมา"
   ]
  },
  {
   "cell_type": "code",
   "execution_count": 1,
   "metadata": {},
   "outputs": [
    {
     "name": "stdout",
     "output_type": "stream",
     "text": [
      "(1, 2.3, 'Hello')\n"
     ]
    }
   ],
   "source": [
    "x = (1,2.3,\"Hello\")\n",
    "print(x)"
   ]
  },
  {
   "cell_type": "markdown",
   "metadata": {},
   "source": [
    "2. จงเขียนโปรแกรมเพื่อประกาศตัวแปร Tuple ที่มี type ของข้อมูลแบบต่าง ๆ จากนั้นท าการเพิ่มค่าลงใน\n",
    "ตัวแปร Tuple\n"
   ]
  },
  {
   "cell_type": "code",
   "execution_count": 3,
   "metadata": {},
   "outputs": [
    {
     "name": "stdout",
     "output_type": "stream",
     "text": [
      "(1, 2.3, 'Hello', 5, 56.4, 'Hi')\n"
     ]
    }
   ],
   "source": [
    "x = (1,2.3,\"Hello\")\n",
    "y = (1,2.3,\"Hello\",5,56.4,\"Hi\")\n",
    "x = y\n",
    "print(x)\n",
    "#ไม่สามารถเพิ่มค่าเข้าไปในtupleเดิมได้ เพราะtuple = immutable"
   ]
  },
  {
   "cell_type": "markdown",
   "metadata": {},
   "source": [
    "3. จากตัวแปร Tuple ที่ก าหนด test = (1, 2.3, 'HELLO', 5, 56.4, 'Hi', 8, 9, \"kim\") จงเขียนโปรแกรมเพื่อ\n",
    "ดึงค่าตัวที่ 4 ออกมาอยู่ในอีกตัวแปรหนึ่ง และดึงค่าตัวที่ 4 จากข้างหลังมาใส่ไว้อีกตัวแปรหนึ่ง\n"
   ]
  },
  {
   "cell_type": "code",
   "execution_count": 5,
   "metadata": {},
   "outputs": [
    {
     "name": "stdout",
     "output_type": "stream",
     "text": [
      "a = 5\n",
      "b = Hi\n"
     ]
    }
   ],
   "source": [
    "test = (1, 2.3, 'HELLO', 5, 56.4, 'Hi', 8, 9, \"kim\")\n",
    "n = len(test)\n",
    "\n",
    "a = test[3]\n",
    "b = test[n-4]\n",
    "\n",
    "print(\"a = {}\\nb = {}\".format(a,b))"
   ]
  },
  {
   "cell_type": "markdown",
   "metadata": {},
   "source": [
    "4. จากตัวแปร Tuple ที่ก าหนด tuplex = 2, 4, 5, 6, 2, 3, 4, 4, 7 จงหาค่าซ ้าของค่าแต่ละค่าในตัวแปร\n",
    "ผลลัพธ์ที่คาดหวัง >>> 2 = 2, 3 = 1, 4 = 3, 5 = 1, 6 = 1, 7 = 1"
   ]
  },
  {
   "cell_type": "code",
   "execution_count": 17,
   "metadata": {},
   "outputs": [
    {
     "name": "stdout",
     "output_type": "stream",
     "text": [
      "2 = 2\n",
      "3 = 1\n",
      "4 = 3\n",
      "5 = 1\n",
      "6 = 1\n",
      "7 = 1\n"
     ]
    }
   ],
   "source": [
    "tuplex = (2, 4, 5, 6, 2, 3, 4, 4, 7)\n",
    "Check = []\n",
    "\n",
    "for i in tuplex:\n",
    "    if i not in Check:\n",
    "        Check.append(i)\n",
    "    else:\n",
    "        pass\n",
    "\n",
    "Check.sort()\n",
    "for i in Check:\n",
    "    print(\"{} = {}\".format(i,tuplex.count(i)))"
   ]
  },
  {
   "cell_type": "markdown",
   "metadata": {},
   "source": [
    "5. จงเขียนโปรแกรมเพื่อตรวจสอบว่าค่าจาก input มีอยู่ในตัวแปร Tuple ที่ก าหนดนี้หรือไม่ tuplex = 2, 4,\n",
    "5, 6, 2, 3, 4, 4, 7"
   ]
  },
  {
   "cell_type": "code",
   "execution_count": 19,
   "metadata": {},
   "outputs": [
    {
     "name": "stdout",
     "output_type": "stream",
     "text": [
      "Enter number: 10\n",
      "False\n"
     ]
    }
   ],
   "source": [
    "n = int(input(\"Enter number: \"))\n",
    "tuplex = (2, 4, 5, 6, 2, 3, 4, 4, 7)\n",
    "\n",
    "print(n in tuplex)"
   ]
  },
  {
   "cell_type": "markdown",
   "metadata": {},
   "source": [
    "6. จากตัวแปร Tuple ทีก าหนด tuplex = 2, 4, 5, 6, 2, 3, 4, 4, 7 จงลบค่าข้อมูลค่าที่มี index เป็นเลขคี่\n",
    "(hint: แปลงเป็น list ก่อน)"
   ]
  },
  {
   "cell_type": "code",
   "execution_count": 30,
   "metadata": {},
   "outputs": [
    {
     "name": "stdout",
     "output_type": "stream",
     "text": [
      "(2, 5, 2, 4, 7)\n"
     ]
    }
   ],
   "source": [
    "tuplex = (2, 4, 5, 6, 2, 3, 4, 4, 7)\n",
    "n = len(tuplex)\n",
    "List = []\n",
    "\n",
    "for i in range(n):\n",
    "    if i % 2 == 0:\n",
    "        List.append(tuplex[i])\n",
    "    else:\n",
    "        pass\n",
    "    \n",
    "tuplex = tuple(List)\n",
    "print(tuplex)"
   ]
  },
  {
   "cell_type": "markdown",
   "metadata": {},
   "source": [
    "7. จงเขียนโปรแกรมหาความยาวของ Tuple ที่ก าหนด tuplex = 2, 4, 5, 6, 2, 3, 4, 4, 7 ผลลัพธ์ที่คาดหวัง >>> length of tuplex is 9"
   ]
  },
  {
   "cell_type": "code",
   "execution_count": 31,
   "metadata": {},
   "outputs": [
    {
     "name": "stdout",
     "output_type": "stream",
     "text": [
      "length of tuplex is 9\n"
     ]
    }
   ],
   "source": [
    "tuplex = (2, 4, 5, 6, 2, 3, 4, 4, 7)\n",
    "print(\"length of tuplex is {}\".format(len(tuplex)))"
   ]
  },
  {
   "cell_type": "markdown",
   "metadata": {},
   "source": [
    "8. จงเขียนโปรแกรมเพื่อกลับค่าข้อมูล (ตัวแรกไปอยู่ตัวสุดท้าย และตัวสุดท้ายไปอยู่ตัวแรก ท าทุกตัว)\n",
    "ก าหนดให้ตัวแปร Tuple คือ tuplex = 2, 4, 5, 6, 2, 3, 4, 4, 7\n",
    "ผลลัพธ์ที่คาดหวัง >>> 7, 4, 4, 3, 2, 6, 5, 4, 2"
   ]
  },
  {
   "cell_type": "code",
   "execution_count": 38,
   "metadata": {},
   "outputs": [
    {
     "name": "stdout",
     "output_type": "stream",
     "text": [
      "(7, 4, 4, 3, 2, 6, 5, 4, 2)\n"
     ]
    }
   ],
   "source": [
    "tuplex = (2, 4, 5, 6, 2, 3, 4, 4, 7)\n",
    "n = len(tuplex)\n",
    "tuplex = tuplex[::-1]\n",
    "\n",
    "print(tuplex)"
   ]
  },
  {
   "cell_type": "markdown",
   "metadata": {},
   "source": [
    "9. จงเขียนโปรแกรมแก้ไขค่าในตัวแปร Tuple ก าหนดให้ตัวแปร Tuple คือ tuplex = (10, 20, 40), (40,\n",
    "50, 60), (70, 80, 90) (Hint: แปลงเป็น list)\n",
    "ผลลัพธ์ที่คาดหวัง >>> (10, 20, 100), (40, 50, 100), (70, 80, 100)"
   ]
  },
  {
   "cell_type": "code",
   "execution_count": 46,
   "metadata": {},
   "outputs": [
    {
     "name": "stdout",
     "output_type": "stream",
     "text": [
      "((10, 20, 100), (40, 50, 100), (70, 80, 100))\n"
     ]
    }
   ],
   "source": [
    "tuplex = ((10, 20, 40), (40,50, 60), (70, 80, 90))\n",
    "\n",
    "def MakeTuple(Tuple):\n",
    "    List = list(Tuple)\n",
    "    List.remove(List[2])\n",
    "    List.append(100)\n",
    "    return tuple(List)\n",
    "\n",
    "tuplex_0 = MakeTuple(tuplex[0])\n",
    "tuplex_1 = MakeTuple(tuplex[1])\n",
    "tuplex_2 = MakeTuple(tuplex[2])\n",
    "\n",
    "tuplex = (tuplex_0,tuplex_1,tuplex_2)\n",
    "\n",
    "print(tuplex)"
   ]
  },
  {
   "cell_type": "markdown",
   "metadata": {},
   "source": [
    "10. จงเขียนโปรแกรมลบค่าตัวแปร Tuple ที่ว่างเปล่า จากตัวแปร List ที่ก าหนดให้ Sample List: [(), (), ('',),\n",
    "('a', 'b'), ('a', 'b', 'c'), ('d')] ผลลัพธ์ที่คาดหวัง >>> [('',), ('a', 'b'), ('a', 'b', 'c'), 'd']"
   ]
  },
  {
   "cell_type": "code",
   "execution_count": 49,
   "metadata": {},
   "outputs": [
    {
     "name": "stdout",
     "output_type": "stream",
     "text": [
      "[('',), ('a', 'b'), ('a', 'b', 'c'), 'd']\n"
     ]
    }
   ],
   "source": [
    "SampleList = [(), (), ('',), ('a', 'b'), ('a', 'b', 'c'), ('d')]\n",
    "New_SampleList = []\n",
    "    \n",
    "for i in SampleList:\n",
    "    n = len(i)\n",
    "    if n > 0:\n",
    "        New_SampleList.append(i)\n",
    "    else:\n",
    "        pass\n",
    "print(New_SampleList)"
   ]
  },
  {
   "cell_type": "markdown",
   "metadata": {},
   "source": [
    "11. จงเขียนโปรแกรมแปลง string ต่อไปนี้ไปรายการของ character ในตัวแปร Tuple ดังตัวอย่างต่อไปนี้\n",
    "ก าหนดให้ string เริ่มต้นคือ python 3.0\n",
    "ผลลัพธ์ที่คาดหวัง >>> ('p', 'y', 't', 'h', 'o', 'n', '3', '.', '0')"
   ]
  },
  {
   "cell_type": "code",
   "execution_count": 51,
   "metadata": {},
   "outputs": [
    {
     "name": "stdout",
     "output_type": "stream",
     "text": [
      "('p', 'y', 't', 'h', 'o', 'n', ' ', '3', '.', '0')\n"
     ]
    }
   ],
   "source": [
    "character = \"python 3.0\"\n",
    "Str_to_Tuple = []\n",
    "\n",
    "for i in character:\n",
    "    Str_to_Tuple.append(i)\n",
    "\n",
    "Tuple = tuple(Str_to_Tuple)\n",
    "print(Tuple)"
   ]
  },
  {
   "cell_type": "markdown",
   "metadata": {},
   "source": [
    "12. จงเขียนโปรแกรมหาค่าเฉลี่ยของแต่ละค่า ตัวแปร Tuple ในตัวแปร Tuple ต่อไปนี้ ก าหนดให้ตัวแปร\n",
    "Tuple มีค่าเป็น ((10, 10, 10, 12), (30, 45, 56, 45), (81, 80, 39, 32), (1, 2, 3, 4))\n",
    "ผลลัพธ์ที่คาดหวัง >>> (10.5, 44, 58, 2.5)"
   ]
  },
  {
   "cell_type": "code",
   "execution_count": 65,
   "metadata": {},
   "outputs": [
    {
     "name": "stdout",
     "output_type": "stream",
     "text": [
      "(10.5, 44.0, 58.0, 2.5)\n"
     ]
    }
   ],
   "source": [
    "Tuple = ((10, 10, 10, 12), (30, 45, 56, 45), (81, 80, 39, 32), (1, 2, 3, 4))\n",
    "List = []\n",
    "\n",
    "for i in Tuple:\n",
    "    n = len(i)\n",
    "    Sum = 0\n",
    "    for e in i:\n",
    "        Sum += e\n",
    "    mean = (Sum/n)\n",
    "    List.append(mean)\n",
    "        \n",
    "Mean = tuple(List)\n",
    "\n",
    "print(Mean)"
   ]
  },
  {
   "cell_type": "markdown",
   "metadata": {},
   "source": [
    "13. จงเขียนโปรแกรมแปลงชนิดของมูลจาก Tuple ที่เก็บค่า String เป็น Tuple ที่เก็บค่า integer ก าหนดให้\n",
    "Tuple เริ่มต้นเป็น (('333', '33'), ('1416', '55'))\n",
    "ผลลัพธ์ที่คาดหวัง >>> ((333, 33), (1416, 55))"
   ]
  },
  {
   "cell_type": "code",
   "execution_count": 84,
   "metadata": {},
   "outputs": [
    {
     "name": "stdout",
     "output_type": "stream",
     "text": [
      "((333, 33), (1416, 55))\n"
     ]
    }
   ],
   "source": [
    "Tuple = (('333', '33'), ('1416', '55'))\n",
    "\n",
    "def Tuple_to_Int(Tuple):\n",
    "    List = []\n",
    "    for i in Tuple:\n",
    "        i = int(i)\n",
    "        List.append(i)\n",
    "    Tuple = tuple(List)\n",
    "    return(Tuple)\n",
    "            \n",
    "Index_0 = Tuple_to_Int(Tuple[0])\n",
    "Index_1 = Tuple_to_Int(Tuple[1])\n",
    "\n",
    "Tuple = (Index_0,Index_1)\n",
    "\n",
    "print(Tuple)"
   ]
  },
  {
   "cell_type": "markdown",
   "metadata": {},
   "source": [
    "14. จงเขียนโปรแกรมบวกค่าในตัวแปร Tuple และแสดงผลลัพธ์เป็นตัวแปร Tuple อีกตัวหนึ่ง ก าหนดให้ตัว\n",
    "แปร Tuple 3 ตัวมีค่าดังต่อไปนี้ ตัวที่ 1 = (1, 2, 3, 4) ตัวที่ 2 = (3, 5, 2, 1) และตัวที่ 3 = (2, 2, 3, 1)\n",
    "ผลลัพธ์ที่คาดหวัง >>> (10, 11, 8)"
   ]
  },
  {
   "cell_type": "code",
   "execution_count": 87,
   "metadata": {},
   "outputs": [
    {
     "name": "stdout",
     "output_type": "stream",
     "text": [
      "(10, 11, 8)\n"
     ]
    }
   ],
   "source": [
    "Tuple_1 = (1, 2, 3, 4)\n",
    "Tuple_2 = (3, 5, 2, 1)\n",
    "Tuple_3 = (2, 2, 3, 1)\n",
    "\n",
    "def Sum_Of_Tuple(Tuple_of_number):\n",
    "    x = 0\n",
    "    for i in Tuple_of_number:\n",
    "        x += i\n",
    "    return(x)\n",
    "\n",
    "Tuple_1 = Sum_Of_Tuple(Tuple_1)\n",
    "Tuple_2 = Sum_Of_Tuple(Tuple_2)\n",
    "Tuple_3 = Sum_Of_Tuple(Tuple_3)\n",
    "NewTuple = (Tuple_1,Tuple_2,Tuple_3)\n",
    "\n",
    "print(NewTuple)"
   ]
  },
  {
   "cell_type": "markdown",
   "metadata": {},
   "source": [
    "15. จงเขียนโปรแกรมแปลงค่าจากตัวแปร Tuple เป็น dictionary ก าหนดให้ตัวแปร tuple เป็น tuplex =\n",
    "((2, \"w\"),(3, \"r\"))\n",
    "ผลลัพธ์ที่คาดหวัง >>> {'w': 2, 'r': 3}"
   ]
  },
  {
   "cell_type": "code",
   "execution_count": 90,
   "metadata": {},
   "outputs": [
    {
     "name": "stdout",
     "output_type": "stream",
     "text": [
      "{'w': 2, 'r': 3}\n"
     ]
    }
   ],
   "source": [
    "tuplex = ((2, \"w\"),(3, \"r\"))\n",
    "MyDict = {}\n",
    "\n",
    "for i in tuplex:\n",
    "    MyDict[i[1]] = i[0]\n",
    "    \n",
    "print(MyDict)"
   ]
  },
  {
   "cell_type": "code",
   "execution_count": null,
   "metadata": {},
   "outputs": [],
   "source": []
  }
 ],
 "metadata": {
  "kernelspec": {
   "display_name": "Python 3",
   "language": "python",
   "name": "python3"
  },
  "language_info": {
   "codemirror_mode": {
    "name": "ipython",
    "version": 3
   },
   "file_extension": ".py",
   "mimetype": "text/x-python",
   "name": "python",
   "nbconvert_exporter": "python",
   "pygments_lexer": "ipython3",
   "version": "3.7.6"
  }
 },
 "nbformat": 4,
 "nbformat_minor": 4
}
