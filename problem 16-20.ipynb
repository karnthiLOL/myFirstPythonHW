{
 "cells": [
  {
   "cell_type": "markdown",
   "metadata": {},
   "source": [
    "# Python Practice Book (Problem 16 - 20)"
   ]
  },
  {
   "cell_type": "markdown",
   "metadata": {},
   "source": [
    "### Problem 16"
   ]
  },
  {
   "cell_type": "code",
   "execution_count": 1,
   "metadata": {},
   "outputs": [
    {
     "name": "stdout",
     "output_type": "stream",
     "text": [
      "True False\n",
      "True\n"
     ]
    }
   ],
   "source": [
    "#problem16 :\n",
    "#*True, False = False, True >> Error\n",
    "True, False == False, True\n",
    "print(True,False)\n",
    "print(2 < 3)"
   ]
  },
  {
   "cell_type": "markdown",
   "metadata": {},
   "source": [
    "### Problem 17"
   ]
  },
  {
   "cell_type": "code",
   "execution_count": 2,
   "metadata": {},
   "outputs": [
    {
     "name": "stdout",
     "output_type": "stream",
     "text": [
      "2\n"
     ]
    }
   ],
   "source": [
    "#problem17 :\n",
    "x = 2\n",
    "if x == 2:\n",
    "    print(x)\n",
    "else:\n",
    "    print(y)\n",
    "    \n",
    "##It can give the Error because y in the code is not defind."
   ]
  },
  {
   "cell_type": "markdown",
   "metadata": {},
   "source": [
    "### Problem 18"
   ]
  },
  {
   "cell_type": "code",
   "execution_count": 3,
   "metadata": {},
   "outputs": [
    {
     "ename": "SyntaxError",
     "evalue": "invalid syntax (<ipython-input-3-2e17e2f385f1>, line 6)",
     "output_type": "error",
     "traceback": [
      "\u001b[0;36m  File \u001b[0;32m\"<ipython-input-3-2e17e2f385f1>\"\u001b[0;36m, line \u001b[0;32m6\u001b[0m\n\u001b[0;31m    print(x+)\u001b[0m\n\u001b[0m            ^\u001b[0m\n\u001b[0;31mSyntaxError\u001b[0m\u001b[0;31m:\u001b[0m invalid syntax\n"
     ]
    }
   ],
   "source": [
    "#plobrem18 :\n",
    "x = 2\n",
    "if x == 2:\n",
    "    print(x)\n",
    "else:\n",
    "    print(x+)\n",
    "    \n",
    "#Error because \"+\" is operator,don't know what to calculate."
   ]
  },
  {
   "cell_type": "code",
   "execution_count": 4,
   "metadata": {},
   "outputs": [
    {
     "name": "stdout",
     "output_type": "stream",
     "text": [
      "2\n"
     ]
    }
   ],
   "source": [
    "#แก้ไข\n",
    "x = 2\n",
    "if x == 2:\n",
    "    print(x)\n",
    "else:\n",
    "    print(\"x +\")"
   ]
  },
  {
   "cell_type": "markdown",
   "metadata": {},
   "source": [
    "### Problem 19"
   ]
  },
  {
   "cell_type": "code",
   "execution_count": 5,
   "metadata": {},
   "outputs": [],
   "source": [
    "#$ python add.py 3 5 >> 8\n",
    "#$ python add.py 2 9 >> 11\n",
    "#โจทย์บอกให้สร้างไฟล์ .py แล้วใช้ terminal\n",
    "#\"add.py\" dowlaodlink:\n",
    "\n",
    "#*โปรแกรม add.py\n",
    "##import sys\n",
    "##print(int(sys.argv[1])+int(sys.argv[2]))\n",
    "\n",
    "###ลิ้งโหลด: https://drive.google.com/file/d/1zI56jSFHWz408y7aDxiR6x4Ia8CoAZR8/view?usp=sharing"
   ]
  },
  {
   "cell_type": "markdown",
   "metadata": {},
   "source": [
    "### Problem 20"
   ]
  },
  {
   "cell_type": "code",
   "execution_count": 6,
   "metadata": {},
   "outputs": [
    {
     "name": "stdout",
     "output_type": "stream",
     "text": [
      "[0, 1, [3]]\n",
      "[0, 1, [3, 3]]\n",
      "[0, 1, 2]\n"
     ]
    }
   ],
   "source": [
    "x = [0,1,[2]]\n",
    "x[2][0] = 3\n",
    "print (x)\n",
    "((x[2]).append(3))\n",
    "print(x)\n",
    "x[2] = 2\n",
    "print(x)"
   ]
  }
 ],
 "metadata": {
  "kernelspec": {
   "display_name": "Python 3",
   "language": "python",
   "name": "python3"
  },
  "language_info": {
   "codemirror_mode": {
    "name": "ipython",
    "version": 3
   },
   "file_extension": ".py",
   "mimetype": "text/x-python",
   "name": "python",
   "nbconvert_exporter": "python",
   "pygments_lexer": "ipython3",
   "version": "3.6.8"
  }
 },
 "nbformat": 4,
 "nbformat_minor": 4
}
