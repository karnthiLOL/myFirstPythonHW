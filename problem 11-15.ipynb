{
 "cells": [
  {
   "cell_type": "markdown",
   "metadata": {},
   "source": [
    "# Python Practice Book (Problem 11 - 15)"
   ]
  },
  {
   "cell_type": "markdown",
   "metadata": {},
   "source": [
    "### Problem 11"
   ]
  },
  {
   "cell_type": "code",
   "execution_count": 1,
   "metadata": {},
   "outputs": [
    {
     "name": "stdout",
     "output_type": "stream",
     "text": [
      "2 6\n"
     ]
    }
   ],
   "source": [
    "#problem11 :\n",
    "x = 2\n",
    "def f(a):\n",
    "    x = a + a\n",
    "    return x\n",
    "y = f(3)\n",
    "print(x,y)"
   ]
  },
  {
   "cell_type": "markdown",
   "metadata": {},
   "source": [
    "### Problem 12"
   ]
  },
  {
   "cell_type": "code",
   "execution_count": 3,
   "metadata": {},
   "outputs": [
    {
     "name": "stdout",
     "output_type": "stream",
     "text": [
      "12345\n"
     ]
    },
    {
     "data": {
      "text/plain": [
       "5"
      ]
     },
     "execution_count": 3,
     "metadata": {},
     "output_type": "execute_result"
    }
   ],
   "source": [
    "#problem12 :\n",
    "##count_digits(5) >>> 1\n",
    "##count_digits(12345) >>> 5\n",
    "\n",
    "def count_digits(n):\n",
    "    x = len(n)\n",
    "    return x\n",
    "\n",
    "##test\n",
    "k = input()\n",
    "count_digits(k)"
   ]
  },
  {
   "cell_type": "markdown",
   "metadata": {},
   "source": [
    "### Problem 13"
   ]
  },
  {
   "cell_type": "code",
   "execution_count": 7,
   "metadata": {},
   "outputs": [
    {
     "name": "stdout",
     "output_type": "stream",
     "text": [
      "ant bird\n"
     ]
    },
    {
     "data": {
      "text/plain": [
       "'False'"
      ]
     },
     "execution_count": 7,
     "metadata": {},
     "output_type": "execute_result"
    }
   ],
   "source": [
    "#problem13 :\n",
    "##istrcmp('python','python') >>> True\n",
    "##istrcmp('a','b') >>> False\n",
    "##หาค่าสตริง 2 ตัวว่าเท่ากันหรือเปล่า\n",
    "\n",
    "def istrcmp(x,y):\n",
    "    if x == y:\n",
    "        return \"True\"\n",
    "    elif x != y:\n",
    "        return \"False\"\n",
    "    else:\n",
    "        return \"No Data\"\n",
    "    \n",
    "##test\n",
    "(x,y) = [str(e) for e in input().split(\" \")]\n",
    "istrcmp(x,y)"
   ]
  },
  {
   "cell_type": "markdown",
   "metadata": {},
   "source": [
    "### Problem 14"
   ]
  },
  {
   "cell_type": "code",
   "execution_count": 8,
   "metadata": {},
   "outputs": [
    {
     "name": "stdout",
     "output_type": "stream",
     "text": [
      "True\n",
      "True\n",
      "True\n",
      "False\n"
     ]
    }
   ],
   "source": [
    "#problem14 :\n",
    "print(2<3 and 3>1)\n",
    "print(2<3 or 3>1)\n",
    "print(2<3 or not 3>1)\n",
    "print(2<3 and not 3>1)"
   ]
  },
  {
   "cell_type": "markdown",
   "metadata": {},
   "source": [
    "### Problem 15"
   ]
  },
  {
   "cell_type": "code",
   "execution_count": 9,
   "metadata": {},
   "outputs": [
    {
     "name": "stdout",
     "output_type": "stream",
     "text": [
      "True\n"
     ]
    }
   ],
   "source": [
    "#problem15 :\n",
    "x = 4\n",
    "y = 5\n",
    "p = x < y or x < z\n",
    "print(p)"
   ]
  }
 ],
 "metadata": {
  "kernelspec": {
   "display_name": "Python 3",
   "language": "python",
   "name": "python3"
  },
  "language_info": {
   "codemirror_mode": {
    "name": "ipython",
    "version": 3
   },
   "file_extension": ".py",
   "mimetype": "text/x-python",
   "name": "python",
   "nbconvert_exporter": "python",
   "pygments_lexer": "ipython3",
   "version": "3.6.8"
  }
 },
 "nbformat": 4,
 "nbformat_minor": 4
}
